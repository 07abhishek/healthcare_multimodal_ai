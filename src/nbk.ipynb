{
 "cells": [
  {
   "cell_type": "code",
   "id": "initial_id",
   "metadata": {
    "collapsed": true,
    "ExecuteTime": {
     "end_time": "2024-09-08T10:09:48.781282Z",
     "start_time": "2024-09-08T10:09:48.528845Z"
    }
   },
   "source": [
    "!git clone https://github.com/razorx89/roco-dataset.git\n",
    "\n",
    "!cd roco-dataset"
   ],
   "outputs": [
    {
     "name": "stdout",
     "output_type": "stream",
     "text": [
      "fatal: destination path 'roco-dataset' already exists and is not an empty directory.\r\n"
     ]
    }
   ],
   "execution_count": 3
  },
  {
   "metadata": {
    "ExecuteTime": {
     "end_time": "2024-09-08T10:10:02.240600Z",
     "start_time": "2024-09-08T10:10:02.095665Z"
    }
   },
   "cell_type": "code",
   "source": "!python /scripts/fetch.py",
   "id": "caf2bad68cd580ad",
   "outputs": [
    {
     "name": "stdout",
     "output_type": "stream",
     "text": [
      "python: can't open file '/scripts/fetch.py': [Errno 2] No such file or directory\r\n"
     ]
    }
   ],
   "execution_count": 5
  },
  {
   "metadata": {
    "ExecuteTime": {
     "end_time": "2024-09-08T10:37:41.078164Z",
     "start_time": "2024-09-08T10:37:40.687691Z"
    }
   },
   "cell_type": "code",
   "source": [
    "from src.create_data_embeddings import export_text_embeddings_to_qdrant\n",
    "\n",
    "# Prepping the data \n",
    "export_text_embeddings_to_qdrant()"
   ],
   "id": "baf2e61356d62fd5",
   "outputs": [
    {
     "data": {
      "text/plain": [
       "         image_id                                            caption\n",
       "0      ROCO_00002   Computed tomography scan in axial view showin...\n",
       "1      ROCO_00003   Bacterial contamination occurred after comple...\n",
       "2      ROCO_00004   The patient had residual paralysis of the han...\n",
       "3      ROCO_00005      Panoramic radiograph after immediate loading.\n",
       "4      ROCO_00007   Plain abdomen x-ray: Multiple air levels at t...\n",
       "...           ...                                                ...\n",
       "65445  ROCO_81819   Initial CT abdomen with contrast showing a di...\n",
       "65446  ROCO_81820   44-year-old male patient after surgical amput...\n",
       "65447  ROCO_81821   Primary pulmonary tuberculosis in 18-year-old...\n",
       "65448  ROCO_81822   MRI brain with gadolinium, coronal view, show...\n",
       "65449  ROCO_81823   Contrast-enhanced 3D MRL image of the lower e...\n",
       "\n",
       "[65450 rows x 2 columns]"
      ],
      "text/html": [
       "<div>\n",
       "<style scoped>\n",
       "    .dataframe tbody tr th:only-of-type {\n",
       "        vertical-align: middle;\n",
       "    }\n",
       "\n",
       "    .dataframe tbody tr th {\n",
       "        vertical-align: top;\n",
       "    }\n",
       "\n",
       "    .dataframe thead th {\n",
       "        text-align: right;\n",
       "    }\n",
       "</style>\n",
       "<table border=\"1\" class=\"dataframe\">\n",
       "  <thead>\n",
       "    <tr style=\"text-align: right;\">\n",
       "      <th></th>\n",
       "      <th>image_id</th>\n",
       "      <th>caption</th>\n",
       "    </tr>\n",
       "  </thead>\n",
       "  <tbody>\n",
       "    <tr>\n",
       "      <th>0</th>\n",
       "      <td>ROCO_00002</td>\n",
       "      <td>Computed tomography scan in axial view showin...</td>\n",
       "    </tr>\n",
       "    <tr>\n",
       "      <th>1</th>\n",
       "      <td>ROCO_00003</td>\n",
       "      <td>Bacterial contamination occurred after comple...</td>\n",
       "    </tr>\n",
       "    <tr>\n",
       "      <th>2</th>\n",
       "      <td>ROCO_00004</td>\n",
       "      <td>The patient had residual paralysis of the han...</td>\n",
       "    </tr>\n",
       "    <tr>\n",
       "      <th>3</th>\n",
       "      <td>ROCO_00005</td>\n",
       "      <td>Panoramic radiograph after immediate loading.</td>\n",
       "    </tr>\n",
       "    <tr>\n",
       "      <th>4</th>\n",
       "      <td>ROCO_00007</td>\n",
       "      <td>Plain abdomen x-ray: Multiple air levels at t...</td>\n",
       "    </tr>\n",
       "    <tr>\n",
       "      <th>...</th>\n",
       "      <td>...</td>\n",
       "      <td>...</td>\n",
       "    </tr>\n",
       "    <tr>\n",
       "      <th>65445</th>\n",
       "      <td>ROCO_81819</td>\n",
       "      <td>Initial CT abdomen with contrast showing a di...</td>\n",
       "    </tr>\n",
       "    <tr>\n",
       "      <th>65446</th>\n",
       "      <td>ROCO_81820</td>\n",
       "      <td>44-year-old male patient after surgical amput...</td>\n",
       "    </tr>\n",
       "    <tr>\n",
       "      <th>65447</th>\n",
       "      <td>ROCO_81821</td>\n",
       "      <td>Primary pulmonary tuberculosis in 18-year-old...</td>\n",
       "    </tr>\n",
       "    <tr>\n",
       "      <th>65448</th>\n",
       "      <td>ROCO_81822</td>\n",
       "      <td>MRI brain with gadolinium, coronal view, show...</td>\n",
       "    </tr>\n",
       "    <tr>\n",
       "      <th>65449</th>\n",
       "      <td>ROCO_81823</td>\n",
       "      <td>Contrast-enhanced 3D MRL image of the lower e...</td>\n",
       "    </tr>\n",
       "  </tbody>\n",
       "</table>\n",
       "<p>65450 rows × 2 columns</p>\n",
       "</div>"
      ]
     },
     "execution_count": 1,
     "metadata": {},
     "output_type": "execute_result"
    }
   ],
   "execution_count": 1
  },
  {
   "metadata": {},
   "cell_type": "code",
   "outputs": [],
   "execution_count": null,
   "source": "",
   "id": "23756997572c2306"
  }
 ],
 "metadata": {
  "kernelspec": {
   "display_name": "Python 3",
   "language": "python",
   "name": "python3"
  },
  "language_info": {
   "codemirror_mode": {
    "name": "ipython",
    "version": 2
   },
   "file_extension": ".py",
   "mimetype": "text/x-python",
   "name": "python",
   "nbconvert_exporter": "python",
   "pygments_lexer": "ipython2",
   "version": "2.7.6"
  }
 },
 "nbformat": 4,
 "nbformat_minor": 5
}
